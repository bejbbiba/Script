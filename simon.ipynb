import sqlite3
from datetime import datetime, timedelta

def get_quarter_expiration_dates(db_path, stock_name, relative_strike):
    """
    Retrieves data for a specific stock and relative strike where the valuation
    date's year and the expiration date match the calculated quarterly
    expiration dates for the last 4 years.

    Args:
        db_path (str): The path to the SQLite database file.
        stock_name (str): The name of the stock to filter by.
        relative_strike (int): The relative strike to filter by.

    Returns:
        list: A list of tuples, where each tuple represents a row from the SPGMI
              table that meets the specified criteria. Returns an empty list if
              no matching data is found or if there's a database error.
    """
    try:
        conn = sqlite3.connect(db_path)
        cursor = conn.cursor()

        now = datetime.now()
        current_year = now.year

        expiration_dates = []
        for year_offset in range(-3, 1):
            year = current_year + year_offset
            for quarter_month in ['03', '06', '09', '12']:
                first_day_str = f"{year}-{quarter_month}-01"
                first_day = datetime.strptime(first_day_str, '%Y-%m-%d')
                weekday = first_day.weekday()  # Monday is 0, Friday is 4

                if weekday == 4:  # First day is a Friday
                    first_friday = first_day
                else:
                    days_to_friday = (4 - weekday + 7) % 7
                    first_friday = first_day + timedelta(days=days_to_friday)

                expiration_date = first_friday + timedelta(days=14)
                expiration_dates.append(expiration_date.strftime('%Y-%m-%d'))

        # Construct the SQL query with placeholders
        placeholders = ', '.join(['?'] * len(expiration_dates))
        sql_query = f"""
        SELECT s.*
        FROM SPGMI s
        WHERE s."Stock Name" = ?
          AND s."Relative Strike" = ?
          AND strftime('%Y', s.ValuationDate) IN (?, ?, ?, ?)
          AND s."Expiration Date" IN ({placeholders})
        ORDER BY s."Expiration Date";
        """

        # Execute the query
        years_list = [str(current_year + i) for i in range(-3, 1)]
        cursor.execute(sql_query, (stock_name, relative_strike) + tuple(years_list) + tuple(expiration_dates))
        results = cursor.fetchall()

        return results

    except sqlite3.Error as e:
        print(f"An SQLite error occurred: {e}")
        return []
    finally:
        if conn:
            conn.close()

if __name__ == "__main__":
    db_file = r"C:\tools\DB-Browser\simon.db"  # Replace with your actual database path
    stock = 'MORGAN STANLEY'
    strike = 95

    data = get_quarter_expiration_dates(db_file, stock, strike)

    if data:
        print(f"Data for '{stock}' with Relative Strike {strike} matching quarterly expiration dates:")
        for row in data:
            print(row)
    else:
        print(f"No data found for '{stock}' with Relative Strike {strike} matching quarterly expiration dates.")
